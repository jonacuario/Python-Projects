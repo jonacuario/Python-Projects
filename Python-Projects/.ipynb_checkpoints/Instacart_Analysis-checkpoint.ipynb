{
 "cells": [
  {
   "cell_type": "code",
   "execution_count": 1,
   "id": "4bf85a56",
   "metadata": {},
   "outputs": [],
   "source": [
    "# Imports\n",
    "import pandas as pd\n",
    "import numpy as np\n",
    "import datetime as dt"
   ]
  },
  {
   "cell_type": "markdown",
   "id": "13ceca3b",
   "metadata": {},
   "source": [
    "- Read in the instacart data csv and parsed the date column to convert it into datetime data type.\n",
    "- Read in first 5 rows"
   ]
  },
  {
   "cell_type": "code",
   "execution_count": 45,
   "id": "bef1188a",
   "metadata": {},
   "outputs": [
    {
     "data": {
      "text/html": [
       "<div>\n",
       "<style scoped>\n",
       "    .dataframe tbody tr th:only-of-type {\n",
       "        vertical-align: middle;\n",
       "    }\n",
       "\n",
       "    .dataframe tbody tr th {\n",
       "        vertical-align: top;\n",
       "    }\n",
       "\n",
       "    .dataframe thead th {\n",
       "        text-align: right;\n",
       "    }\n",
       "</style>\n",
       "<table border=\"1\" class=\"dataframe\">\n",
       "  <thead>\n",
       "    <tr style=\"text-align: right;\">\n",
       "      <th></th>\n",
       "      <th>Date</th>\n",
       "      <th>Batch Earnings</th>\n",
       "      <th>Tips</th>\n",
       "      <th>Adjustments</th>\n",
       "      <th>Active Hours</th>\n",
       "      <th>Distance</th>\n",
       "    </tr>\n",
       "  </thead>\n",
       "  <tbody>\n",
       "    <tr>\n",
       "      <th>0</th>\n",
       "      <td>2022-01-22</td>\n",
       "      <td>47.92</td>\n",
       "      <td>9.56</td>\n",
       "      <td>59.97</td>\n",
       "      <td>2:18</td>\n",
       "      <td>31.4</td>\n",
       "    </tr>\n",
       "    <tr>\n",
       "      <th>1</th>\n",
       "      <td>2022-01-23</td>\n",
       "      <td>138.99</td>\n",
       "      <td>90.03</td>\n",
       "      <td>60.72</td>\n",
       "      <td>10:00</td>\n",
       "      <td>53.6</td>\n",
       "    </tr>\n",
       "    <tr>\n",
       "      <th>2</th>\n",
       "      <td>2022-01-24</td>\n",
       "      <td>108.83</td>\n",
       "      <td>22.12</td>\n",
       "      <td>182.45</td>\n",
       "      <td>5:40</td>\n",
       "      <td>44.2</td>\n",
       "    </tr>\n",
       "    <tr>\n",
       "      <th>3</th>\n",
       "      <td>2022-01-25</td>\n",
       "      <td>106.02</td>\n",
       "      <td>35.52</td>\n",
       "      <td>300.23</td>\n",
       "      <td>5:11</td>\n",
       "      <td>35.0</td>\n",
       "    </tr>\n",
       "    <tr>\n",
       "      <th>4</th>\n",
       "      <td>2022-01-26</td>\n",
       "      <td>98.27</td>\n",
       "      <td>41.25</td>\n",
       "      <td>361.98</td>\n",
       "      <td>5:54</td>\n",
       "      <td>20.6</td>\n",
       "    </tr>\n",
       "  </tbody>\n",
       "</table>\n",
       "</div>"
      ],
      "text/plain": [
       "        Date  Batch Earnings   Tips  Adjustments Active Hours  Distance\n",
       "0 2022-01-22           47.92   9.56        59.97         2:18      31.4\n",
       "1 2022-01-23          138.99  90.03        60.72        10:00      53.6\n",
       "2 2022-01-24          108.83  22.12       182.45         5:40      44.2\n",
       "3 2022-01-25          106.02  35.52       300.23         5:11      35.0\n",
       "4 2022-01-26           98.27  41.25       361.98         5:54      20.6"
      ]
     },
     "execution_count": 45,
     "metadata": {},
     "output_type": "execute_result"
    }
   ],
   "source": [
    "# Read in the Instacart CSV containing all of the compiled data\n",
    "instacart_df = pd.read_csv(\"Instacart_Analysis_CSV.csv\", parse_dates=['Date'])\n",
    "instacart_df.head()"
   ]
  },
  {
   "cell_type": "code",
   "execution_count": 3,
   "id": "001c72db",
   "metadata": {},
   "outputs": [
    {
     "name": "stdout",
     "output_type": "stream",
     "text": [
      "<class 'pandas.core.frame.DataFrame'>\n",
      "RangeIndex: 88 entries, 0 to 87\n",
      "Data columns (total 6 columns):\n",
      " #   Column          Non-Null Count  Dtype         \n",
      "---  ------          --------------  -----         \n",
      " 0   Date            88 non-null     datetime64[ns]\n",
      " 1   Batch Earnings  88 non-null     float64       \n",
      " 2   Tips            88 non-null     float64       \n",
      " 3   Adjustments     13 non-null     float64       \n",
      " 4   Active Hours    88 non-null     object        \n",
      " 5   Distance        84 non-null     float64       \n",
      "dtypes: datetime64[ns](1), float64(4), object(1)\n",
      "memory usage: 4.2+ KB\n"
     ]
    }
   ],
   "source": [
    "instacart_df.info()"
   ]
  },
  {
   "cell_type": "markdown",
   "id": "ad651242",
   "metadata": {},
   "source": [
    "- Converted 'Active Hours' Column to datetime"
   ]
  },
  {
   "cell_type": "code",
   "execution_count": 16,
   "id": "6daa0a56",
   "metadata": {},
   "outputs": [],
   "source": [
    "instacart_df['Active Hours'] = pd.to_datetime(instacart_df['Active Hours'],format= \"%H:%M:%S\").dt.time"
   ]
  },
  {
   "cell_type": "code",
   "execution_count": 44,
   "id": "6b961142",
   "metadata": {},
   "outputs": [],
   "source": [
    "# instacart_df.info()"
   ]
  },
  {
   "cell_type": "markdown",
   "id": "58ab810a",
   "metadata": {},
   "source": [
    "- Created new column which will sum the amount earned per day.\n",
    "- Used iloc to parse only the Batch earnings, Tips, and adjustments for the sum.\n",
    "- Used the insert method to place the new column in a more logical spot in the dataframe."
   ]
  },
  {
   "cell_type": "code",
   "execution_count": 43,
   "id": "8e86b345",
   "metadata": {},
   "outputs": [
    {
     "data": {
      "text/html": [
       "<div>\n",
       "<style scoped>\n",
       "    .dataframe tbody tr th:only-of-type {\n",
       "        vertical-align: middle;\n",
       "    }\n",
       "\n",
       "    .dataframe tbody tr th {\n",
       "        vertical-align: top;\n",
       "    }\n",
       "\n",
       "    .dataframe thead th {\n",
       "        text-align: right;\n",
       "    }\n",
       "</style>\n",
       "<table border=\"1\" class=\"dataframe\">\n",
       "  <thead>\n",
       "    <tr style=\"text-align: right;\">\n",
       "      <th></th>\n",
       "      <th>Date</th>\n",
       "      <th>Batch Earnings</th>\n",
       "      <th>Tips</th>\n",
       "      <th>Adjustments</th>\n",
       "      <th>Total Amount Earned</th>\n",
       "      <th>Active Hours</th>\n",
       "      <th>Distance</th>\n",
       "    </tr>\n",
       "  </thead>\n",
       "  <tbody>\n",
       "    <tr>\n",
       "      <th>0</th>\n",
       "      <td>2022-01-22</td>\n",
       "      <td>47.92</td>\n",
       "      <td>9.56</td>\n",
       "      <td>59.97</td>\n",
       "      <td>117.45</td>\n",
       "      <td>02:18:00</td>\n",
       "      <td>31.4</td>\n",
       "    </tr>\n",
       "    <tr>\n",
       "      <th>1</th>\n",
       "      <td>2022-01-23</td>\n",
       "      <td>138.99</td>\n",
       "      <td>90.03</td>\n",
       "      <td>60.72</td>\n",
       "      <td>289.74</td>\n",
       "      <td>10:00:00</td>\n",
       "      <td>53.6</td>\n",
       "    </tr>\n",
       "    <tr>\n",
       "      <th>2</th>\n",
       "      <td>2022-01-24</td>\n",
       "      <td>108.83</td>\n",
       "      <td>22.12</td>\n",
       "      <td>182.45</td>\n",
       "      <td>313.40</td>\n",
       "      <td>05:40:00</td>\n",
       "      <td>44.2</td>\n",
       "    </tr>\n",
       "    <tr>\n",
       "      <th>3</th>\n",
       "      <td>2022-01-25</td>\n",
       "      <td>106.02</td>\n",
       "      <td>35.52</td>\n",
       "      <td>300.23</td>\n",
       "      <td>441.77</td>\n",
       "      <td>05:11:00</td>\n",
       "      <td>35.0</td>\n",
       "    </tr>\n",
       "    <tr>\n",
       "      <th>4</th>\n",
       "      <td>2022-01-26</td>\n",
       "      <td>98.27</td>\n",
       "      <td>41.25</td>\n",
       "      <td>361.98</td>\n",
       "      <td>501.50</td>\n",
       "      <td>05:54:00</td>\n",
       "      <td>20.6</td>\n",
       "    </tr>\n",
       "  </tbody>\n",
       "</table>\n",
       "</div>"
      ],
      "text/plain": [
       "        Date  Batch Earnings   Tips  Adjustments  Total Amount Earned  \\\n",
       "0 2022-01-22           47.92   9.56        59.97               117.45   \n",
       "1 2022-01-23          138.99  90.03        60.72               289.74   \n",
       "2 2022-01-24          108.83  22.12       182.45               313.40   \n",
       "3 2022-01-25          106.02  35.52       300.23               441.77   \n",
       "4 2022-01-26           98.27  41.25       361.98               501.50   \n",
       "\n",
       "  Active Hours  Distance  \n",
       "0     02:18:00      31.4  \n",
       "1     10:00:00      53.6  \n",
       "2     05:40:00      44.2  \n",
       "3     05:11:00      35.0  \n",
       "4     05:54:00      20.6  "
      ]
     },
     "execution_count": 43,
     "metadata": {},
     "output_type": "execute_result"
    }
   ],
   "source": [
    "instacart_df.insert(4, column='Total Amount Earned' , value=instacart_df.iloc[:, 1:4].sum(axis=1))"
   ]
  },
  {
   "cell_type": "code",
   "execution_count": null,
   "id": "d4bd55d3",
   "metadata": {},
   "outputs": [],
   "source": []
  }
 ],
 "metadata": {
  "kernelspec": {
   "display_name": "Python 3 (ipykernel)",
   "language": "python",
   "name": "python3"
  },
  "language_info": {
   "codemirror_mode": {
    "name": "ipython",
    "version": 3
   },
   "file_extension": ".py",
   "mimetype": "text/x-python",
   "name": "python",
   "nbconvert_exporter": "python",
   "pygments_lexer": "ipython3",
   "version": "3.9.7"
  }
 },
 "nbformat": 4,
 "nbformat_minor": 5
}

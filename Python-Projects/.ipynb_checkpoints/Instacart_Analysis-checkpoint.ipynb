{
 "cells": [
  {
   "cell_type": "markdown",
   "id": "60847b8d",
   "metadata": {},
   "source": [
    "Few questions I want to answer by analyzing the data I have compiled for a few months of working for Instacart until current day (April 25, 2022)\n",
    "- How much money have I earned in total?\n",
    "- How many miles have I driven?\n",
    "- How many hours have I actively worked?\n",
    "- What is the highest amount I have earned in a single day?"
   ]
  },
  {
   "cell_type": "code",
   "execution_count": 15,
   "id": "4bf85a56",
   "metadata": {},
   "outputs": [],
   "source": [
    "# Imports\n",
    "import pandas as pd\n",
    "import numpy as np\n",
    "import datetime as dt\n",
    "from datetime import timedelta"
   ]
  },
  {
   "cell_type": "markdown",
   "id": "13ceca3b",
   "metadata": {},
   "source": [
    "- Read in the instacart data csv and parsed the date column to convert it into datetime data type.\n",
    "- Read in first 5 rows"
   ]
  },
  {
   "cell_type": "code",
   "execution_count": 2,
   "id": "bef1188a",
   "metadata": {},
   "outputs": [
    {
     "data": {
      "text/html": [
       "<div>\n",
       "<style scoped>\n",
       "    .dataframe tbody tr th:only-of-type {\n",
       "        vertical-align: middle;\n",
       "    }\n",
       "\n",
       "    .dataframe tbody tr th {\n",
       "        vertical-align: top;\n",
       "    }\n",
       "\n",
       "    .dataframe thead th {\n",
       "        text-align: right;\n",
       "    }\n",
       "</style>\n",
       "<table border=\"1\" class=\"dataframe\">\n",
       "  <thead>\n",
       "    <tr style=\"text-align: right;\">\n",
       "      <th></th>\n",
       "      <th>Date</th>\n",
       "      <th>Batch Earnings</th>\n",
       "      <th>Tips</th>\n",
       "      <th>Adjustments</th>\n",
       "      <th>Active Hours</th>\n",
       "      <th>Distance</th>\n",
       "    </tr>\n",
       "  </thead>\n",
       "  <tbody>\n",
       "    <tr>\n",
       "      <th>0</th>\n",
       "      <td>2022-01-22</td>\n",
       "      <td>47.92</td>\n",
       "      <td>9.56</td>\n",
       "      <td>59.97</td>\n",
       "      <td>2:18</td>\n",
       "      <td>31.4</td>\n",
       "    </tr>\n",
       "    <tr>\n",
       "      <th>1</th>\n",
       "      <td>2022-01-23</td>\n",
       "      <td>138.99</td>\n",
       "      <td>90.03</td>\n",
       "      <td>60.72</td>\n",
       "      <td>10:00</td>\n",
       "      <td>53.6</td>\n",
       "    </tr>\n",
       "    <tr>\n",
       "      <th>2</th>\n",
       "      <td>2022-01-24</td>\n",
       "      <td>108.83</td>\n",
       "      <td>22.12</td>\n",
       "      <td>182.45</td>\n",
       "      <td>5:40</td>\n",
       "      <td>44.2</td>\n",
       "    </tr>\n",
       "    <tr>\n",
       "      <th>3</th>\n",
       "      <td>2022-01-25</td>\n",
       "      <td>106.02</td>\n",
       "      <td>35.52</td>\n",
       "      <td>300.23</td>\n",
       "      <td>5:11</td>\n",
       "      <td>35.0</td>\n",
       "    </tr>\n",
       "    <tr>\n",
       "      <th>4</th>\n",
       "      <td>2022-01-26</td>\n",
       "      <td>98.27</td>\n",
       "      <td>41.25</td>\n",
       "      <td>361.98</td>\n",
       "      <td>5:54</td>\n",
       "      <td>20.6</td>\n",
       "    </tr>\n",
       "  </tbody>\n",
       "</table>\n",
       "</div>"
      ],
      "text/plain": [
       "        Date  Batch Earnings   Tips  Adjustments Active Hours  Distance\n",
       "0 2022-01-22           47.92   9.56        59.97         2:18      31.4\n",
       "1 2022-01-23          138.99  90.03        60.72        10:00      53.6\n",
       "2 2022-01-24          108.83  22.12       182.45         5:40      44.2\n",
       "3 2022-01-25          106.02  35.52       300.23         5:11      35.0\n",
       "4 2022-01-26           98.27  41.25       361.98         5:54      20.6"
      ]
     },
     "execution_count": 2,
     "metadata": {},
     "output_type": "execute_result"
    }
   ],
   "source": [
    "# Read in the Instacart CSV containing all of the compiled data\n",
    "instacart_df = pd.read_csv(\"Instacart_Analysis_CSV.csv\", parse_dates=['Date'])\n",
    "instacart_df.head()"
   ]
  },
  {
   "cell_type": "code",
   "execution_count": 3,
   "id": "001c72db",
   "metadata": {},
   "outputs": [
    {
     "name": "stdout",
     "output_type": "stream",
     "text": [
      "<class 'pandas.core.frame.DataFrame'>\n",
      "RangeIndex: 88 entries, 0 to 87\n",
      "Data columns (total 6 columns):\n",
      " #   Column          Non-Null Count  Dtype         \n",
      "---  ------          --------------  -----         \n",
      " 0   Date            88 non-null     datetime64[ns]\n",
      " 1   Batch Earnings  88 non-null     float64       \n",
      " 2   Tips            88 non-null     float64       \n",
      " 3   Adjustments     13 non-null     float64       \n",
      " 4   Active Hours    88 non-null     object        \n",
      " 5   Distance        85 non-null     float64       \n",
      "dtypes: datetime64[ns](1), float64(4), object(1)\n",
      "memory usage: 4.2+ KB\n"
     ]
    }
   ],
   "source": [
    "instacart_df.info()"
   ]
  },
  {
   "cell_type": "markdown",
   "id": "ad651242",
   "metadata": {},
   "source": [
    "- Converted 'Active Hours' Column to datetime"
   ]
  },
  {
   "cell_type": "code",
   "execution_count": 11,
   "id": "6daa0a56",
   "metadata": {},
   "outputs": [],
   "source": [
    "instacart_df['Active Hours'] = pd.to_datetime(instacart_df['Active Hours'],format= \"%H:%M\").dt.time"
   ]
  },
  {
   "cell_type": "markdown",
   "id": "58ab810a",
   "metadata": {},
   "source": [
    "- Created new column which will sum the amount earned per day.\n",
    "- Used iloc to parse only the Batch earnings, Tips, and adjustments for the sum.\n",
    "- Used the insert method to place the new column in a more logical spot in the dataframe."
   ]
  },
  {
   "cell_type": "code",
   "execution_count": 5,
   "id": "8e86b345",
   "metadata": {},
   "outputs": [],
   "source": [
    "instacart_df.insert(4, column='Day Total' , value=instacart_df.iloc[:, 1:3].sum(axis=1))"
   ]
  },
  {
   "cell_type": "code",
   "execution_count": 6,
   "id": "d4bd55d3",
   "metadata": {},
   "outputs": [
    {
     "data": {
      "text/html": [
       "<div>\n",
       "<style scoped>\n",
       "    .dataframe tbody tr th:only-of-type {\n",
       "        vertical-align: middle;\n",
       "    }\n",
       "\n",
       "    .dataframe tbody tr th {\n",
       "        vertical-align: top;\n",
       "    }\n",
       "\n",
       "    .dataframe thead th {\n",
       "        text-align: right;\n",
       "    }\n",
       "</style>\n",
       "<table border=\"1\" class=\"dataframe\">\n",
       "  <thead>\n",
       "    <tr style=\"text-align: right;\">\n",
       "      <th></th>\n",
       "      <th>Date</th>\n",
       "      <th>Batch Earnings</th>\n",
       "      <th>Tips</th>\n",
       "      <th>Adjustments</th>\n",
       "      <th>Day Total</th>\n",
       "      <th>Active Hours</th>\n",
       "      <th>Distance</th>\n",
       "    </tr>\n",
       "  </thead>\n",
       "  <tbody>\n",
       "    <tr>\n",
       "      <th>0</th>\n",
       "      <td>2022-01-22</td>\n",
       "      <td>47.92</td>\n",
       "      <td>9.56</td>\n",
       "      <td>59.97</td>\n",
       "      <td>57.48</td>\n",
       "      <td>2:18</td>\n",
       "      <td>31.4</td>\n",
       "    </tr>\n",
       "    <tr>\n",
       "      <th>1</th>\n",
       "      <td>2022-01-23</td>\n",
       "      <td>138.99</td>\n",
       "      <td>90.03</td>\n",
       "      <td>60.72</td>\n",
       "      <td>229.02</td>\n",
       "      <td>10:00</td>\n",
       "      <td>53.6</td>\n",
       "    </tr>\n",
       "    <tr>\n",
       "      <th>2</th>\n",
       "      <td>2022-01-24</td>\n",
       "      <td>108.83</td>\n",
       "      <td>22.12</td>\n",
       "      <td>182.45</td>\n",
       "      <td>130.95</td>\n",
       "      <td>5:40</td>\n",
       "      <td>44.2</td>\n",
       "    </tr>\n",
       "    <tr>\n",
       "      <th>3</th>\n",
       "      <td>2022-01-25</td>\n",
       "      <td>106.02</td>\n",
       "      <td>35.52</td>\n",
       "      <td>300.23</td>\n",
       "      <td>141.54</td>\n",
       "      <td>5:11</td>\n",
       "      <td>35.0</td>\n",
       "    </tr>\n",
       "    <tr>\n",
       "      <th>4</th>\n",
       "      <td>2022-01-26</td>\n",
       "      <td>98.27</td>\n",
       "      <td>41.25</td>\n",
       "      <td>361.98</td>\n",
       "      <td>139.52</td>\n",
       "      <td>5:54</td>\n",
       "      <td>20.6</td>\n",
       "    </tr>\n",
       "  </tbody>\n",
       "</table>\n",
       "</div>"
      ],
      "text/plain": [
       "        Date  Batch Earnings   Tips  Adjustments  Day Total Active Hours  \\\n",
       "0 2022-01-22           47.92   9.56        59.97      57.48         2:18   \n",
       "1 2022-01-23          138.99  90.03        60.72     229.02        10:00   \n",
       "2 2022-01-24          108.83  22.12       182.45     130.95         5:40   \n",
       "3 2022-01-25          106.02  35.52       300.23     141.54         5:11   \n",
       "4 2022-01-26           98.27  41.25       361.98     139.52         5:54   \n",
       "\n",
       "   Distance  \n",
       "0      31.4  \n",
       "1      53.6  \n",
       "2      44.2  \n",
       "3      35.0  \n",
       "4      20.6  "
      ]
     },
     "execution_count": 6,
     "metadata": {},
     "output_type": "execute_result"
    }
   ],
   "source": [
    "instacart_df.head()"
   ]
  },
  {
   "cell_type": "code",
   "execution_count": 7,
   "id": "7d579ce9",
   "metadata": {},
   "outputs": [
    {
     "data": {
      "text/plain": [
       "14165.98"
      ]
     },
     "execution_count": 7,
     "metadata": {},
     "output_type": "execute_result"
    }
   ],
   "source": [
    "'''To calculate the total amount of money earned I can just find the sum of the column \"Total Amount Earned\" as that describes\n",
    " the total amount earned per day\n",
    "'''\n",
    "total_amount_earned = instacart_df['Day Total'].sum() + instacart_df['Adjustments'].sum() + instacart_df['Distance'].sum() * .30\n",
    "total_amount_earned\n"
   ]
  },
  {
   "cell_type": "markdown",
   "id": "bd2e2e88",
   "metadata": {},
   "source": [
    "Over the past several months I have earned a grand total of $14,165.98 which includes batch earnings, tips, adjustments as well as the gas reimbursement of 30 cents per mile driven"
   ]
  },
  {
   "cell_type": "code",
   "execution_count": 8,
   "id": "a100dde0",
   "metadata": {},
   "outputs": [
    {
     "data": {
      "text/plain": [
       "1890.0"
      ]
     },
     "execution_count": 8,
     "metadata": {},
     "output_type": "execute_result"
    }
   ],
   "source": [
    "# Total amount of miles driven was given by the previous calculation\n",
    "total_amount_miles_driven = instacart_df['Distance'].sum()\n",
    "total_amount_miles_driven"
   ]
  },
  {
   "cell_type": "markdown",
   "id": "92934e72",
   "metadata": {},
   "source": [
    "Total miles currently driven: 1,890 miles"
   ]
  },
  {
   "cell_type": "code",
   "execution_count": 9,
   "id": "e3e21577",
   "metadata": {},
   "outputs": [
    {
     "data": {
      "text/plain": [
       "263.2"
      ]
     },
     "execution_count": 9,
     "metadata": {},
     "output_type": "execute_result"
    }
   ],
   "source": [
    "# Highest single day total earned\n",
    "max_single_day_earnings = instacart_df['Day Total'].max()\n",
    "max_single_day_earnings"
   ]
  },
  {
   "cell_type": "code",
   "execution_count": 10,
   "id": "7e480813",
   "metadata": {},
   "outputs": [
    {
     "data": {
      "text/html": [
       "<div>\n",
       "<style scoped>\n",
       "    .dataframe tbody tr th:only-of-type {\n",
       "        vertical-align: middle;\n",
       "    }\n",
       "\n",
       "    .dataframe tbody tr th {\n",
       "        vertical-align: top;\n",
       "    }\n",
       "\n",
       "    .dataframe thead th {\n",
       "        text-align: right;\n",
       "    }\n",
       "</style>\n",
       "<table border=\"1\" class=\"dataframe\">\n",
       "  <thead>\n",
       "    <tr style=\"text-align: right;\">\n",
       "      <th></th>\n",
       "      <th>Date</th>\n",
       "      <th>Batch Earnings</th>\n",
       "      <th>Tips</th>\n",
       "      <th>Adjustments</th>\n",
       "      <th>Day Total</th>\n",
       "      <th>Active Hours</th>\n",
       "      <th>Distance</th>\n",
       "    </tr>\n",
       "  </thead>\n",
       "  <tbody>\n",
       "    <tr>\n",
       "      <th>8</th>\n",
       "      <td>2022-01-30</td>\n",
       "      <td>150.03</td>\n",
       "      <td>113.17</td>\n",
       "      <td>276.93</td>\n",
       "      <td>263.2</td>\n",
       "      <td>8:59</td>\n",
       "      <td>31.1</td>\n",
       "    </tr>\n",
       "  </tbody>\n",
       "</table>\n",
       "</div>"
      ],
      "text/plain": [
       "        Date  Batch Earnings    Tips  Adjustments  Day Total Active Hours  \\\n",
       "8 2022-01-30          150.03  113.17       276.93      263.2         8:59   \n",
       "\n",
       "   Distance  \n",
       "8      31.1  "
      ]
     },
     "execution_count": 10,
     "metadata": {},
     "output_type": "execute_result"
    }
   ],
   "source": [
    "# To find the breakdown of this day we can use the loc function and look for the max value's location.\n",
    "max_earnings_day_location = instacart_df.loc[instacart_df['Day Total'] == max_single_day_earnings]\n",
    "max_earnings_day_location\n"
   ]
  },
  {
   "cell_type": "markdown",
   "id": "fbf3bccf",
   "metadata": {},
   "source": [
    "The day I earned the most occurred on January 30, 2022. Checking the data for that specific day, I received the largest full service order of $114.35 around 11am and I continued to take orders until just about 9:30pm."
   ]
  },
  {
   "cell_type": "code",
   "execution_count": null,
   "id": "c2dfebb3",
   "metadata": {},
   "outputs": [],
   "source": []
  }
 ],
 "metadata": {
  "kernelspec": {
   "display_name": "Python 3 (ipykernel)",
   "language": "python",
   "name": "python3"
  },
  "language_info": {
   "codemirror_mode": {
    "name": "ipython",
    "version": 3
   },
   "file_extension": ".py",
   "mimetype": "text/x-python",
   "name": "python",
   "nbconvert_exporter": "python",
   "pygments_lexer": "ipython3",
   "version": "3.9.7"
  }
 },
 "nbformat": 4,
 "nbformat_minor": 5
}
